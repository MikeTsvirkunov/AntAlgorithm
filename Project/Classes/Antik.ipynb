{
 "cells": [
  {
   "cell_type": "code",
   "execution_count": 1,
   "metadata": {},
   "outputs": [],
   "source": [
    "import random"
   ]
  },
  {
   "cell_type": "code",
   "execution_count": 2,
   "metadata": {},
   "outputs": [],
   "source": [
    "import math"
   ]
  },
  {
   "cell_type": "code",
   "execution_count": 3,
   "metadata": {},
   "outputs": [],
   "source": [
    "import numpy as np\n",
    "from matplotlib import pyplot as plt"
   ]
  },
  {
   "cell_type": "code",
   "execution_count": 11,
   "metadata": {},
   "outputs": [],
   "source": [
    "from os import pathsep\n",
    "\n",
    "\n",
    "class AntColony:\n",
    "    def __init__(self, num_ants, num_iterations, evaporation_rate, alpha, beta):\n",
    "        self.num_ants = num_ants\n",
    "        self.num_iterations = num_iterations\n",
    "        self.evaporation_rate = evaporation_rate\n",
    "        self.alpha = alpha\n",
    "        self.beta = beta\n",
    "        self.pheromone = None\n",
    "        self.graph = None\n",
    "\n",
    "    def run(self, graph):\n",
    "        self.graph = graph\n",
    "        self.pheromone = [[1 / (len(graph) ** 2) for j in range(len(graph))] for i in range(len(graph))]\n",
    "\n",
    "        for iteration in range(self.num_iterations):\n",
    "            ants = [Ant(self.alpha, self.beta) for i in range(self.num_ants)]\n",
    "            for ant in ants:\n",
    "                ant.find_path(self.graph, self.pheromone)\n",
    "\n",
    "            for i in range(len(graph)):\n",
    "                for j in range(len(graph)):\n",
    "                    if i != j:\n",
    "                        self.pheromone[i][j] *= (1 - self.evaporation_rate)\n",
    "                        for ant in ants:\n",
    "                            self.pheromone[i][j] += ant.pheromones[i][j]\n",
    "\n",
    "        return Ant.get_best_path()\n",
    "\n",
    "class Ant:\n",
    "    def __init__(self, alpha, beta):\n",
    "        self.alpha = alpha\n",
    "        self.beta = beta\n",
    "        self.path = []\n",
    "        self.visited = set()\n",
    "        self.pheromones = []\n",
    "        self.distance = 0\n",
    "\n",
    "    def find_path(self, graph, pheromone):\n",
    "        start = random.randint(0, len(graph) - 1)\n",
    "        self.visited.add(start)\n",
    "        self.path.append(start)\n",
    "\n",
    "        while len(self.visited) < len(graph):\n",
    "            current = self.path[-1]\n",
    "            pheromone_sum = sum([(pheromone[current][j] ** self.alpha) * ((1 / graph[current][j]) ** self.beta) if j not in self.visited else 0 for j in range(len(graph))])\n",
    "            probabilities = [(pheromone[current][j] ** self.alpha) * ((1 / graph[current][j]) ** self.beta) / pheromone_sum if j not in self.visited else 0 for j in range(len(graph))]\n",
    "            next_node = random.choices(range(len(graph)), probabilities)[0]\n",
    "            self.visited.add(next_node)\n",
    "            self.path.append(next_node)\n",
    "            self.distance += graph[current][next_node]\n",
    "            self.pheromones[current][next_node] += 1 / self.distance\n",
    "\n",
    "    def get_best_path(self):\n",
    "        best_path = sorted(pathsep, key=lambda p: p.distance)[0]\n",
    "        return best_path.path"
   ]
  },
  {
   "cell_type": "code",
   "execution_count": 13,
   "metadata": {},
   "outputs": [
    {
     "ename": "IndexError",
     "evalue": "list index out of range",
     "output_type": "error",
     "traceback": [
      "\u001b[1;31m---------------------------------------------------------------------------\u001b[0m",
      "\u001b[1;31mIndexError\u001b[0m                                Traceback (most recent call last)",
      "Cell \u001b[1;32mIn[13], line 9\u001b[0m\n\u001b[0;32m      1\u001b[0m graph \u001b[38;5;241m=\u001b[39m [\n\u001b[0;32m      2\u001b[0m     [\u001b[38;5;241m0\u001b[39m, \u001b[38;5;241m2\u001b[39m, \u001b[38;5;241m4\u001b[39m, \u001b[38;5;241m1\u001b[39m],\n\u001b[0;32m      3\u001b[0m     [\u001b[38;5;241m2\u001b[39m, \u001b[38;5;241m0\u001b[39m, \u001b[38;5;241m3\u001b[39m, \u001b[38;5;241m2\u001b[39m],\n\u001b[0;32m      4\u001b[0m     [\u001b[38;5;241m4\u001b[39m, \u001b[38;5;241m3\u001b[39m, \u001b[38;5;241m0\u001b[39m, \u001b[38;5;241m1\u001b[39m],\n\u001b[0;32m      5\u001b[0m     [\u001b[38;5;241m1\u001b[39m, \u001b[38;5;241m2\u001b[39m, \u001b[38;5;241m1\u001b[39m, \u001b[38;5;241m0\u001b[39m],\n\u001b[0;32m      6\u001b[0m ]\n\u001b[0;32m      8\u001b[0m ac \u001b[38;5;241m=\u001b[39m AntColony(num_ants\u001b[38;5;241m=\u001b[39m\u001b[38;5;241m10\u001b[39m, num_iterations\u001b[38;5;241m=\u001b[39m\u001b[38;5;241m50\u001b[39m, evaporation_rate\u001b[38;5;241m=\u001b[39m\u001b[38;5;241m0.5\u001b[39m, alpha\u001b[38;5;241m=\u001b[39m\u001b[38;5;241m1\u001b[39m, beta\u001b[38;5;241m=\u001b[39m\u001b[38;5;241m1\u001b[39m)\n\u001b[1;32m----> 9\u001b[0m best_path \u001b[38;5;241m=\u001b[39m \u001b[43mac\u001b[49m\u001b[38;5;241;43m.\u001b[39;49m\u001b[43mrun\u001b[49m\u001b[43m(\u001b[49m\u001b[43mgraph\u001b[49m\u001b[43m)\u001b[49m\n\u001b[0;32m     10\u001b[0m \u001b[38;5;28mprint\u001b[39m(best_path)  \u001b[38;5;66;03m# [0, 3, 2, 1]\u001b[39;00m\n",
      "Cell \u001b[1;32mIn[11], line 21\u001b[0m, in \u001b[0;36mAntColony.run\u001b[1;34m(self, graph)\u001b[0m\n\u001b[0;32m     19\u001b[0m ants \u001b[38;5;241m=\u001b[39m [Ant(\u001b[38;5;28mself\u001b[39m\u001b[38;5;241m.\u001b[39malpha, \u001b[38;5;28mself\u001b[39m\u001b[38;5;241m.\u001b[39mbeta) \u001b[38;5;28;01mfor\u001b[39;00m i \u001b[38;5;129;01min\u001b[39;00m \u001b[38;5;28mrange\u001b[39m(\u001b[38;5;28mself\u001b[39m\u001b[38;5;241m.\u001b[39mnum_ants)]\n\u001b[0;32m     20\u001b[0m \u001b[38;5;28;01mfor\u001b[39;00m ant \u001b[38;5;129;01min\u001b[39;00m ants:\n\u001b[1;32m---> 21\u001b[0m     \u001b[43mant\u001b[49m\u001b[38;5;241;43m.\u001b[39;49m\u001b[43mfind_path\u001b[49m\u001b[43m(\u001b[49m\u001b[38;5;28;43mself\u001b[39;49m\u001b[38;5;241;43m.\u001b[39;49m\u001b[43mgraph\u001b[49m\u001b[43m,\u001b[49m\u001b[43m \u001b[49m\u001b[38;5;28;43mself\u001b[39;49m\u001b[38;5;241;43m.\u001b[39;49m\u001b[43mpheromone\u001b[49m\u001b[43m)\u001b[49m\n\u001b[0;32m     23\u001b[0m \u001b[38;5;28;01mfor\u001b[39;00m i \u001b[38;5;129;01min\u001b[39;00m \u001b[38;5;28mrange\u001b[39m(\u001b[38;5;28mlen\u001b[39m(graph)):\n\u001b[0;32m     24\u001b[0m     \u001b[38;5;28;01mfor\u001b[39;00m j \u001b[38;5;129;01min\u001b[39;00m \u001b[38;5;28mrange\u001b[39m(\u001b[38;5;28mlen\u001b[39m(graph)):\n",
      "Cell \u001b[1;32mIn[11], line 54\u001b[0m, in \u001b[0;36mAnt.find_path\u001b[1;34m(self, graph, pheromone)\u001b[0m\n\u001b[0;32m     52\u001b[0m \u001b[38;5;28mself\u001b[39m\u001b[38;5;241m.\u001b[39mpath\u001b[38;5;241m.\u001b[39mappend(next_node)\n\u001b[0;32m     53\u001b[0m \u001b[38;5;28mself\u001b[39m\u001b[38;5;241m.\u001b[39mdistance \u001b[38;5;241m+\u001b[39m\u001b[38;5;241m=\u001b[39m graph[current][next_node]\n\u001b[1;32m---> 54\u001b[0m \u001b[38;5;28;43mself\u001b[39;49m\u001b[38;5;241;43m.\u001b[39;49m\u001b[43mpheromones\u001b[49m\u001b[43m[\u001b[49m\u001b[43mcurrent\u001b[49m\u001b[43m]\u001b[49m[next_node] \u001b[38;5;241m+\u001b[39m\u001b[38;5;241m=\u001b[39m \u001b[38;5;241m1\u001b[39m \u001b[38;5;241m/\u001b[39m \u001b[38;5;28mself\u001b[39m\u001b[38;5;241m.\u001b[39mdistance\n",
      "\u001b[1;31mIndexError\u001b[0m: list index out of range"
     ]
    }
   ],
   "source": [
    "graph = [\n",
    "    [0, 2, 4, 1],\n",
    "    [2, 0, 3, 2],\n",
    "    [4, 3, 0, 1],\n",
    "    [1, 2, 1, 0],\n",
    "]\n",
    "\n",
    "ac = AntColony(num_ants=10, num_iterations=50, evaporation_rate=0.5, alpha=1, beta=1)\n",
    "best_path = ac.run(graph)\n",
    "print(best_path)  # [0, 3, 2, 1]"
   ]
  }
 ],
 "metadata": {
  "kernelspec": {
   "display_name": "Python 3.10.4 ('ant_venv': venv)",
   "language": "python",
   "name": "python3"
  },
  "language_info": {
   "codemirror_mode": {
    "name": "ipython",
    "version": 3
   },
   "file_extension": ".py",
   "mimetype": "text/x-python",
   "name": "python",
   "nbconvert_exporter": "python",
   "pygments_lexer": "ipython3",
   "version": "3.10.4"
  },
  "orig_nbformat": 4,
  "vscode": {
   "interpreter": {
    "hash": "6824a538a876ff938e5dd422a9a966898edbe0a23c727c6674b82834036d1f55"
   }
  }
 },
 "nbformat": 4,
 "nbformat_minor": 2
}
