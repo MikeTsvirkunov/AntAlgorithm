{
 "cells": [
  {
   "attachments": {},
   "cell_type": "markdown",
   "metadata": {},
   "source": [
    "# Импорт"
   ]
  },
  {
   "cell_type": "code",
   "execution_count": 24,
   "metadata": {},
   "outputs": [],
   "source": [
    "import sys\n",
    "import numpy as np\n",
    "import networkx as nx\n",
    "import matplotlib.pyplot as plt\n",
    "\n",
    "\n",
    "sys.path.append(\"../Project\")\n",
    "from Classes.Ant import Ant\n",
    "from Classes.TrackOfWalk import TrackOfWalk"
   ]
  },
  {
   "attachments": {},
   "cell_type": "markdown",
   "metadata": {},
   "source": [
    "# Общие переменные"
   ]
  },
  {
   "cell_type": "code",
   "execution_count": 25,
   "metadata": {},
   "outputs": [],
   "source": [
    "field_size = 6"
   ]
  },
  {
   "cell_type": "code",
   "execution_count": 26,
   "metadata": {},
   "outputs": [],
   "source": [
    "feromon_map = np.random.rand(field_size, field_size)\n",
    "feromon_map = (feromon_map + feromon_map.T) / 2\n",
    "distance_map = np.random.rand(field_size, field_size)\n",
    "distance_map = (distance_map + distance_map.T) / 2"
   ]
  },
  {
   "cell_type": "code",
   "execution_count": 27,
   "metadata": {},
   "outputs": [
    {
     "name": "stdout",
     "output_type": "stream",
     "text": [
      "[[0.955825   0.21469323 0.896459   0.88276982 0.35341534 0.61330567]\n",
      " [0.21469323 0.94168092 0.436718   0.40555125 0.56410037 0.34839339]\n",
      " [0.896459   0.436718   0.09019382 0.86255678 0.19794324 0.91300637]\n",
      " [0.88276982 0.40555125 0.86255678 0.24880326 0.48080567 0.68127873]\n",
      " [0.35341534 0.56410037 0.19794324 0.48080567 0.72481329 0.68798821]\n",
      " [0.61330567 0.34839339 0.91300637 0.68127873 0.68798821 0.61762026]]\n"
     ]
    }
   ],
   "source": [
    "print(feromon_map)"
   ]
  },
  {
   "cell_type": "code",
   "execution_count": 28,
   "metadata": {},
   "outputs": [
    {
     "name": "stdout",
     "output_type": "stream",
     "text": [
      "[[0.2033934  0.26662801 0.36966133 0.58627089 0.82261152 0.47704487]\n",
      " [0.26662801 0.11104082 0.92145962 0.6945671  0.46052616 0.72918942]\n",
      " [0.36966133 0.92145962 0.4970768  0.70745497 0.4230116  0.55337787]\n",
      " [0.58627089 0.6945671  0.70745497 0.7896878  0.36255334 0.10679488]\n",
      " [0.82261152 0.46052616 0.4230116  0.36255334 0.08729956 0.65358183]\n",
      " [0.47704487 0.72918942 0.55337787 0.10679488 0.65358183 0.21996204]]\n"
     ]
    }
   ],
   "source": [
    "print(distance_map)"
   ]
  },
  {
   "cell_type": "code",
   "execution_count": 29,
   "metadata": {},
   "outputs": [],
   "source": [
    "def experement(ant: Ant, \n",
    "               feromon_map_updater: TrackOfWalk, \n",
    "               feromon_map: np.ndarray, \n",
    "               distance_map: np.ndarray,\n",
    "               num_of_iteration: int):\n",
    "    for i in range(num_of_iteration):\n",
    "        track = ant.walk(pos=[np.random.randint(0, field_size-1), \n",
    "                              np.random.randint(0, field_size-1)], \n",
    "                         distance_matrix=distance_map, \n",
    "                         feromon_matrix=feromon_map)\n",
    "        feromon_map = feromon_map_updater.update(track=track, \n",
    "                                                 feromon_matrix=feromon_map)\n",
    "    return feromon_map\n"
   ]
  },
  {
   "attachments": {},
   "cell_type": "markdown",
   "metadata": {},
   "source": [
    "# Опыт 1\n",
    "\n",
    "Сравнение результатов при разных гиппер-параметрах у муравья."
   ]
  },
  {
   "cell_type": "code",
   "execution_count": 30,
   "metadata": {},
   "outputs": [],
   "source": [
    "ant = Ant(walk_distance=field_size, a=1, b=1)\n",
    "feromon_map_updater = TrackOfWalk(feromon_volume=field_size*0.9, feromon_erosion_speed=0.9)"
   ]
  },
  {
   "cell_type": "code",
   "execution_count": 31,
   "metadata": {},
   "outputs": [],
   "source": [
    "feromon_map_result = experement(ant=ant, \n",
    "                                feromon_map_updater=feromon_map_updater, \n",
    "                                feromon_map=feromon_map, \n",
    "                                distance_map=distance_map, \n",
    "                                num_of_iteration=40)"
   ]
  },
  {
   "cell_type": "code",
   "execution_count": 32,
   "metadata": {},
   "outputs": [
    {
     "name": "stdout",
     "output_type": "stream",
     "text": [
      "[[9.96737160e-12 2.23882745e-12 1.17197247e+01 9.20555001e-12\n",
      "  3.68542576e-12 6.39556979e-12]\n",
      " [2.23882745e-12 9.81987672e-12 4.55410833e-12 3.27260799e-01\n",
      "  5.88245554e-12 3.63305663e-12]\n",
      " [9.34830125e-12 4.55410833e-12 9.40543848e-13 1.26795154e+01\n",
      "  2.06415806e-12 5.17510478e-03]\n",
      " [1.04020055e+01 4.22910050e-12 9.31518860e-03 2.59452783e-12\n",
      "  5.01385593e-12 7.10439493e-12]\n",
      " [3.19450912e-03 5.88245554e-12 2.06415806e-12 5.01385593e-12\n",
      "  7.55837466e-12 1.05319495e-04]\n",
      " [6.39556979e-12 3.63305663e-12 5.85108361e-05 7.10439493e-12\n",
      "  3.83341095e-03 6.44056247e-12]]\n"
     ]
    }
   ],
   "source": [
    "print(feromon_map_result)"
   ]
  },
  {
   "cell_type": "code",
   "execution_count": 33,
   "metadata": {},
   "outputs": [
    {
     "name": "stdout",
     "output_type": "stream",
     "text": [
      "[[False False  True False False False]\n",
      " [False False False  True False False]\n",
      " [False False False  True False False]\n",
      " [ True False False False False False]\n",
      " [False False False False False False]\n",
      " [False False False False False False]]\n"
     ]
    }
   ],
   "source": [
    "print(feromon_map_result > 0.1)"
   ]
  },
  {
   "cell_type": "code",
   "execution_count": 35,
   "metadata": {},
   "outputs": [
    {
     "data": {
      "text/plain": [
       "[<matplotlib.patches.FancyArrowPatch at 0x1cc619fd730>,\n",
       " <matplotlib.patches.FancyArrowPatch at 0x1cc617cdd90>,\n",
       " <matplotlib.patches.FancyArrowPatch at 0x1cc61b5fbe0>,\n",
       " <matplotlib.patches.FancyArrowPatch at 0x1cc619fdee0>,\n",
       " <matplotlib.patches.FancyArrowPatch at 0x1cc619fde20>]"
      ]
     },
     "execution_count": 35,
     "metadata": {},
     "output_type": "execute_result"
    },
    {
     "data": {
      "image/png": "[encoded data removed]",
      "text/plain": [
       "<Figure size 640x480 with 1 Axes>"
      ]
     },
     "metadata": {},
     "output_type": "display_data"
    }
   ],
   "source": [
    "edges = []\n",
    "\n",
    "\n",
    "for i in range(field_size):\n",
    "    for j in range(i, field_size):\n",
    "        if i != j:\n",
    "            edges.append((i, j, field_size))\n",
    "\n",
    "\n",
    "edges_res = []\n",
    "for i in range(feromon_map_result.shape[0]):\n",
    "    for j in range(i, feromon_map_result.shape[0]):\n",
    "        if i != j and feromon_map_result[i][j] > 1e-10:\n",
    "            edges_res.append((i, j, field_size))\n",
    "\n",
    "\n",
    "G = nx.Graph()\n",
    "\n",
    "for start, end, length in edges:\n",
    "    G.add_edge(start, end, length=length)\n",
    "\n",
    "\n",
    "nx.draw_circular(G, with_labels = True)\n",
    "nx.draw_networkx_edges(G, nx.circular_layout(G), edgelist=edges_res, edge_color='r', arrows=True)\n"
   ]
  }
 ],
 "metadata": {
  "kernelspec": {
   "display_name": "AntAlg",
   "language": "python",
   "name": "python3"
  },
  "language_info": {
   "codemirror_mode": {
    "name": "ipython",
    "version": 3
   },
   "file_extension": ".py",
   "mimetype": "text/x-python",
   "name": "python",
   "nbconvert_exporter": "python",
   "pygments_lexer": "ipython3",
   "version": "3.9.2"
  },
  "orig_nbformat": 4
 },
 "nbformat": 4,
 "nbformat_minor": 2
}
